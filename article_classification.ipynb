{
 "cells": [
  {
   "cell_type": "code",
   "execution_count": 24,
   "id": "df63aeac",
   "metadata": {},
   "outputs": [],
   "source": [
    "import pandas as pd\n",
    "from sklearn.preprocessing import StandardScaler\n",
    "from sklearn.model_selection import train_test_split\n",
    "from sklearn.linear_model import LogisticRegression\n",
    "from sklearn.metrics import accuracy_score, f1_score\n",
    "import numpy as np\n",
    "from sklearn.feature_extraction.text import TfidfVectorizer"
   ]
  },
  {
   "cell_type": "code",
   "execution_count": 25,
   "id": "db05b7a7",
   "metadata": {},
   "outputs": [],
   "source": [
    "#Loading Dataset\n",
    "df=pd.read_csv('news_dataset.csv')\n"
   ]
  },
  {
   "cell_type": "code",
   "execution_count": 26,
   "id": "bfa34e82",
   "metadata": {},
   "outputs": [
    {
     "name": "stdout",
     "output_type": "stream",
     "text": [
      "Unnamed: 0      0\n",
      "title         558\n",
      "text           39\n",
      "label           0\n",
      "dtype: int64\n"
     ]
    }
   ],
   "source": [
    "#Checking and removing null values\n",
    "print(df.isnull().sum())"
   ]
  },
  {
   "cell_type": "code",
   "execution_count": 27,
   "id": "ae03621a",
   "metadata": {},
   "outputs": [],
   "source": [
    "df=df.dropna()\n",
    "df=df.dropna(axis=1)"
   ]
  },
  {
   "cell_type": "code",
   "execution_count": 28,
   "id": "9153b119",
   "metadata": {},
   "outputs": [],
   "source": [
    "#Splitting into features and target\n",
    "x=df['text']\n",
    "y=df['label']"
   ]
  },
  {
   "cell_type": "code",
   "execution_count": 29,
   "id": "74e4894d",
   "metadata": {},
   "outputs": [],
   "source": [
    "# Train_Test_Split\n",
    "x_train,x_test,y_train,y_test=train_test_split(x,y,test_size=0.2,random_state=42)"
   ]
  },
  {
   "cell_type": "code",
   "execution_count": 30,
   "id": "f5f74193",
   "metadata": {},
   "outputs": [],
   "source": [
    "#TF-IDF Vectorizer\n",
    "vectorizer = TfidfVectorizer(stop_words='english', max_features=10000)\n",
    "x_train_tfidf= vectorizer.fit_transform(x_train)\n",
    "x_test_tfidf=vectorizer.transform(x_test)"
   ]
  },
  {
   "cell_type": "code",
   "execution_count": 31,
   "id": "c27c7472",
   "metadata": {},
   "outputs": [
    {
     "name": "stdout",
     "output_type": "stream",
     "text": [
      "Prediction is: [1 0 0 ... 1 0 1]\n"
     ]
    }
   ],
   "source": [
    "# Model Training\n",
    "model=LogisticRegression(class_weight='balanced', max_iter=1000)\n",
    "model.fit(x_train_tfidf, y_train)\n",
    "\n",
    "#Prediction\n",
    "pred=model.predict(x_test_tfidf)\n",
    "print(f'Prediction is: {pred}')"
   ]
  },
  {
   "cell_type": "code",
   "execution_count": 32,
   "id": "b51ee344",
   "metadata": {},
   "outputs": [
    {
     "name": "stdout",
     "output_type": "stream",
     "text": [
      "Accuracy of the model is: 0.9408023483365949\n",
      "F1 Score of the given model is: 0.9418548774627583\n"
     ]
    }
   ],
   "source": [
    "# Model Evaluation\n",
    "accuracy= accuracy_score(y_test,pred)\n",
    "print(f'Accuracy of the model is: {accuracy}')\n",
    "\n",
    "f1= f1_score(y_test,pred)\n",
    "print(f'F1 Score of the given model is: {f1}')"
   ]
  },
  {
   "cell_type": "code",
   "execution_count": 33,
   "id": "02f7fd2c",
   "metadata": {},
   "outputs": [
    {
     "data": {
      "text/plain": [
       "['model.pkl']"
      ]
     },
     "execution_count": 33,
     "metadata": {},
     "output_type": "execute_result"
    }
   ],
   "source": [
    "# Saving the model\n",
    "import joblib\n",
    "\n",
    "joblib.dump(model, 'model.pkl')\n",
    "\n"
   ]
  },
  {
   "cell_type": "code",
   "execution_count": 34,
   "id": "1217abaf",
   "metadata": {},
   "outputs": [
    {
     "data": {
      "text/plain": [
       "['vectorizer.pkl']"
      ]
     },
     "execution_count": 34,
     "metadata": {},
     "output_type": "execute_result"
    }
   ],
   "source": [
    "joblib.dump(vectorizer, 'vectorizer.pkl')"
   ]
  }
 ],
 "metadata": {
  "kernelspec": {
   "display_name": "base",
   "language": "python",
   "name": "python3"
  },
  "language_info": {
   "codemirror_mode": {
    "name": "ipython",
    "version": 3
   },
   "file_extension": ".py",
   "mimetype": "text/x-python",
   "name": "python",
   "nbconvert_exporter": "python",
   "pygments_lexer": "ipython3",
   "version": "3.13.5"
  }
 },
 "nbformat": 4,
 "nbformat_minor": 5
}
